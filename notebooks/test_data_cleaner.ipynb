{
 "cells": [
  {
   "cell_type": "code",
   "execution_count": 1,
   "id": "733b9336",
   "metadata": {},
   "outputs": [],
   "source": [
    "import sys\n",
    "sys.path.append('../')  # or the relative path from your notebook to your project root\n"
   ]
  },
  {
   "cell_type": "code",
   "execution_count": 2,
   "id": "f6b09232",
   "metadata": {},
   "outputs": [],
   "source": [
    "import pandas as pd\n",
    "from src.transform import DataCleaner"
   ]
  },
  {
   "cell_type": "code",
   "execution_count": 3,
   "id": "873267a5",
   "metadata": {},
   "outputs": [],
   "source": [
    "df = pd.read_csv(\"../data/processed/combined.csv\")"
   ]
  },
  {
   "cell_type": "code",
   "execution_count": 4,
   "id": "a851e0d3",
   "metadata": {},
   "outputs": [
    {
     "name": "stdout",
     "output_type": "stream",
     "text": [
      "<class 'pandas.core.frame.DataFrame'>\n",
      "RangeIndex: 53 entries, 0 to 52\n",
      "Data columns (total 29 columns):\n",
      " #   Column                    Non-Null Count  Dtype \n",
      "---  ------                    --------------  ----- \n",
      " 0   Date of sale              53 non-null     object\n",
      " 1   Time of sale              53 non-null     object\n",
      " 2   Date of listing           53 non-null     object\n",
      " 3   Bundle                    53 non-null     object\n",
      " 4   Buyer                     53 non-null     object\n",
      " 5   Brand                     53 non-null     object\n",
      " 6   Description               53 non-null     object\n",
      " 7   Size                      53 non-null     object\n",
      " 8   Item price                53 non-null     object\n",
      " 9   Buyer shipping cost       53 non-null     object\n",
      " 10  Total                     53 non-null     object\n",
      " 11  USPS Cost                 53 non-null     object\n",
      " 12  Depop fee                 53 non-null     object\n",
      " 13  Depop Payments fee        53 non-null     object\n",
      " 14  Boosting fee              53 non-null     object\n",
      " 15  Payment type              53 non-null     object\n",
      " 16  Estimated payout date     52 non-null     object\n",
      " 17  Payout arrival date       52 non-null     object\n",
      " 18  Category                  53 non-null     object\n",
      " 19  Name                      53 non-null     object\n",
      " 20  Address Line 1            53 non-null     object\n",
      " 21  Address Line 2            4 non-null      object\n",
      " 22  City                      53 non-null     object\n",
      " 23  State                     53 non-null     object\n",
      " 24  Post Code                 53 non-null     object\n",
      " 25  Country                   53 non-null     object\n",
      " 26  US Sales tax              40 non-null     object\n",
      " 27  Refunded to buyer amount  3 non-null      object\n",
      " 28  Fees refunded to seller   3 non-null      object\n",
      "dtypes: object(29)\n",
      "memory usage: 12.1+ KB\n"
     ]
    }
   ],
   "source": [
    "df.info()"
   ]
  },
  {
   "cell_type": "code",
   "execution_count": 5,
   "id": "2578ac8c",
   "metadata": {},
   "outputs": [
    {
     "name": "stdout",
     "output_type": "stream",
     "text": [
      "['IA' 'Utah' 'AZ' 'CA' 'UT' 'OH' 'MS' 'TX' 'MA' 'California' 'IL' 'MO'\n",
      " 'KS' 'NV' 'PA' 'NJ' 'Washington' 'CO' 'CT' 'DE' 'FL' 'Kansas' 'RI' 'WV'\n",
      " 'NY' 'KY' 'NC' 'IN']\n"
     ]
    }
   ],
   "source": [
    "states = df['State'].unique()\n",
    "print(states)"
   ]
  },
  {
   "cell_type": "code",
   "execution_count": 6,
   "id": "fc9c85e7",
   "metadata": {},
   "outputs": [
    {
     "name": "stdout",
     "output_type": "stream",
     "text": [
      "Finished dropping sensitive columns.\n",
      "Finished normalizing state names.\n",
      "Finished converting date columns to datetime.\n",
      "Finished converting numeric columns to float.\n",
      "Filled missing 'US Sales tax' with state sales tax rates.\n",
      "Finished filling refund columns with zero\n",
      "Finished filling missing values.\n",
      "Finished dropping duplicates.\n",
      "  Date of sale Time of sale Date of listing Bundle           Brand  \\\n",
      "0   2024-07-01      7:16 PM      2024-06-16     No           Other   \n",
      "1   2024-08-05     10:39 PM      2024-06-16     No         Starter   \n",
      "2   2024-08-06      3:13 AM      2024-07-21     No           Other   \n",
      "3   2024-08-07      4:42 AM      2024-07-21     No  Hard Rock Cafe   \n",
      "4   2024-08-08      2:05 AM      2024-08-07     No           Other   \n",
      "\n",
      "                                         Description Size  Item price  \\\n",
      "0  Limited NYC 2023 Dragon Ball Daima Special Pan...   XL        24.0   \n",
      "1  90s Vintage Starter Denver Broncos Superbowl X...    L        25.0   \n",
      "2  NYPD shirt\\n\\nSize: Medium\\nMeasurements: 20 W...    M        10.0   \n",
      "3  Hard Rock Cafe grey and white shirt\\n\\nSize: L...    L         8.0   \n",
      "4                         Polo shirt\\n\\nSize: Medium    M         6.0   \n",
      "\n",
      "   Buyer shipping cost  Total  ...  Boosting fee  Payment type     Category  \\\n",
      "0                 6.29  31.97  ...           0.0        STRIPE     T-shirts   \n",
      "1                 6.29  33.15  ...           0.0        STRIPE     T-shirts   \n",
      "2                 6.29  17.08  ...           0.0        STRIPE     T-shirts   \n",
      "3                 6.29  14.91  ...           0.0        STRIPE     T-shirts   \n",
      "4                 6.29  12.73  ...           0.0        STRIPE  Polo shirts   \n",
      "\n",
      "               City       State   Post Code Country US Sales tax  \\\n",
      "0           Altoona        Iowa  50009-2688      US         1.68   \n",
      "1              Lehi        Utah       84043      US         1.86   \n",
      "2           Phoenix     Arizona  85048-8746      US         0.79   \n",
      "3         Fair Oaks  California  95628-5529      US         0.62   \n",
      "4  Saratoga Springs        Utah  84045-8154      US         0.44   \n",
      "\n",
      "  Refunded to buyer amount Fees refunded to seller  \n",
      "0                     0.00                    0.00  \n",
      "1                     5.76                    1.51  \n",
      "2                     0.00                    0.00  \n",
      "3                     0.00                    0.00  \n",
      "4                     0.00                    0.00  \n",
      "\n",
      "[5 rows x 23 columns]\n"
     ]
    }
   ],
   "source": [
    "# Clean your data\n",
    "cleaner = DataCleaner(df)\n",
    "cleaned_df = (\n",
    "    cleaner\n",
    "    .drop_sensitive()\n",
    "    .normalize_states()\n",
    "    .convert_dates()\n",
    "    .convert_numerics()\n",
    "    .fill_sales_tax_by_state()\n",
    "    .fill_columns_with_zero()\n",
    "    .fill_missing()\n",
    "    .drop_duplicates()\n",
    "    .get_data()\n",
    ")\n",
    "\n",
    "# Preview and/or save\n",
    "print(cleaned_df.head())\n",
    "cleaned_df.to_csv(\"../data/processed/cleaned.csv\", index=False)\n"
   ]
  },
  {
   "cell_type": "code",
   "execution_count": 7,
   "id": "7611c144",
   "metadata": {},
   "outputs": [
    {
     "name": "stdout",
     "output_type": "stream",
     "text": [
      "  Date of sale Time of sale Date of listing Bundle           Brand  \\\n",
      "0   2024-07-01      7:16 PM      2024-06-16     No           Other   \n",
      "1   2024-08-05     10:39 PM      2024-06-16     No         Starter   \n",
      "2   2024-08-06      3:13 AM      2024-07-21     No           Other   \n",
      "3   2024-08-07      4:42 AM      2024-07-21     No  Hard Rock Cafe   \n",
      "4   2024-08-08      2:05 AM      2024-08-07     No           Other   \n",
      "\n",
      "                                         Description Size  Item price  \\\n",
      "0  Limited NYC 2023 Dragon Ball Daima Special Pan...   XL        24.0   \n",
      "1  90s Vintage Starter Denver Broncos Superbowl X...    L        25.0   \n",
      "2  NYPD shirt\\n\\nSize: Medium\\nMeasurements: 20 W...    M        10.0   \n",
      "3  Hard Rock Cafe grey and white shirt\\n\\nSize: L...    L         8.0   \n",
      "4                         Polo shirt\\n\\nSize: Medium    M         6.0   \n",
      "\n",
      "   Buyer shipping cost  Total  ...  Boosting fee  Payment type     Category  \\\n",
      "0                 6.29  31.97  ...           0.0        STRIPE     T-shirts   \n",
      "1                 6.29  33.15  ...           0.0        STRIPE     T-shirts   \n",
      "2                 6.29  17.08  ...           0.0        STRIPE     T-shirts   \n",
      "3                 6.29  14.91  ...           0.0        STRIPE     T-shirts   \n",
      "4                 6.29  12.73  ...           0.0        STRIPE  Polo shirts   \n",
      "\n",
      "               City       State   Post Code Country US Sales tax  \\\n",
      "0           Altoona        Iowa  50009-2688      US         1.68   \n",
      "1              Lehi        Utah       84043      US         1.86   \n",
      "2           Phoenix     Arizona  85048-8746      US         0.79   \n",
      "3         Fair Oaks  California  95628-5529      US         0.62   \n",
      "4  Saratoga Springs        Utah  84045-8154      US         0.44   \n",
      "\n",
      "  Refunded to buyer amount Fees refunded to seller  \n",
      "0                     0.00                    0.00  \n",
      "1                     5.76                    1.51  \n",
      "2                     0.00                    0.00  \n",
      "3                     0.00                    0.00  \n",
      "4                     0.00                    0.00  \n",
      "\n",
      "[5 rows x 23 columns]\n",
      "<class 'pandas.core.frame.DataFrame'>\n",
      "RangeIndex: 53 entries, 0 to 52\n",
      "Data columns (total 23 columns):\n",
      " #   Column                    Non-Null Count  Dtype  \n",
      "---  ------                    --------------  -----  \n",
      " 0   Date of sale              53 non-null     object \n",
      " 1   Time of sale              53 non-null     object \n",
      " 2   Date of listing           53 non-null     object \n",
      " 3   Bundle                    53 non-null     object \n",
      " 4   Brand                     53 non-null     object \n",
      " 5   Description               53 non-null     object \n",
      " 6   Size                      53 non-null     object \n",
      " 7   Item price                53 non-null     float64\n",
      " 8   Buyer shipping cost       53 non-null     float64\n",
      " 9   Total                     53 non-null     float64\n",
      " 10  USPS Cost                 53 non-null     float64\n",
      " 11  Depop fee                 53 non-null     float64\n",
      " 12  Depop Payments fee        53 non-null     float64\n",
      " 13  Boosting fee              53 non-null     float64\n",
      " 14  Payment type              53 non-null     object \n",
      " 15  Category                  53 non-null     object \n",
      " 16  City                      53 non-null     object \n",
      " 17  State                     53 non-null     object \n",
      " 18  Post Code                 53 non-null     object \n",
      " 19  Country                   53 non-null     object \n",
      " 20  US Sales tax              53 non-null     float64\n",
      " 21  Refunded to buyer amount  53 non-null     float64\n",
      " 22  Fees refunded to seller   53 non-null     float64\n",
      "dtypes: float64(10), object(13)\n",
      "memory usage: 9.7+ KB\n",
      "None\n",
      "Date of sale                0\n",
      "Time of sale                0\n",
      "Date of listing             0\n",
      "Bundle                      0\n",
      "Brand                       0\n",
      "Description                 0\n",
      "Size                        0\n",
      "Item price                  0\n",
      "Buyer shipping cost         0\n",
      "Total                       0\n",
      "USPS Cost                   0\n",
      "Depop fee                   0\n",
      "Depop Payments fee          0\n",
      "Boosting fee                0\n",
      "Payment type                0\n",
      "Category                    0\n",
      "City                        0\n",
      "State                       0\n",
      "Post Code                   0\n",
      "Country                     0\n",
      "US Sales tax                0\n",
      "Refunded to buyer amount    0\n",
      "Fees refunded to seller     0\n",
      "dtype: int64\n"
     ]
    }
   ],
   "source": [
    "# Pandas to validate cleaned data\n",
    "df = pd.read_csv(\"../data/processed/cleaned.csv\")\n",
    "print(df.head())\n",
    "print(df.info())\n",
    "print(df.isnull().sum())"
   ]
  }
 ],
 "metadata": {
  "kernelspec": {
   "display_name": "base",
   "language": "python",
   "name": "python3"
  },
  "language_info": {
   "codemirror_mode": {
    "name": "ipython",
    "version": 3
   },
   "file_extension": ".py",
   "mimetype": "text/x-python",
   "name": "python",
   "nbconvert_exporter": "python",
   "pygments_lexer": "ipython3",
   "version": "3.11.5"
  }
 },
 "nbformat": 4,
 "nbformat_minor": 5
}
